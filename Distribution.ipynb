{
 "cells": [
  {
   "cell_type": "code",
   "execution_count": 7,
   "metadata": {},
   "outputs": [],
   "source": [
    "import numpy as np\n",
    "import matplotlib.pyplot as plt\n",
    "import random\n",
    "import scipy.stats as stats"
   ]
  },
  {
   "cell_type": "markdown",
   "metadata": {},
   "source": [
    "## 二項分布"
   ]
  },
  {
   "cell_type": "code",
   "execution_count": null,
   "metadata": {},
   "outputs": [],
   "source": []
  },
  {
   "cell_type": "markdown",
   "metadata": {},
   "source": [
    "## ベータ分布"
   ]
  },
  {
   "cell_type": "code",
   "execution_count": null,
   "metadata": {},
   "outputs": [],
   "source": []
  },
  {
   "cell_type": "markdown",
   "metadata": {},
   "source": [
    "## ガンマ分布"
   ]
  },
  {
   "cell_type": "code",
   "execution_count": null,
   "metadata": {},
   "outputs": [],
   "source": []
  },
  {
   "cell_type": "markdown",
   "metadata": {},
   "source": [
    "## half cauchy分布"
   ]
  },
  {
   "cell_type": "code",
   "execution_count": null,
   "metadata": {},
   "outputs": [],
   "source": []
  },
  {
   "cell_type": "markdown",
   "metadata": {},
   "source": [
    "## Diclet分布"
   ]
  },
  {
   "cell_type": "code",
   "execution_count": null,
   "metadata": {},
   "outputs": [],
   "source": []
  },
  {
   "cell_type": "markdown",
   "metadata": {},
   "source": [
    "## 正規分布"
   ]
  },
  {
   "cell_type": "code",
   "execution_count": null,
   "metadata": {},
   "outputs": [],
   "source": []
  },
  {
   "cell_type": "markdown",
   "metadata": {},
   "source": [
    "## ガウス混合分布"
   ]
  },
  {
   "cell_type": "code",
   "execution_count": 8,
   "metadata": {},
   "outputs": [],
   "source": [
    "N = 1000\n",
    "mu1 = 30\n",
    "sigma1 = 10\n",
    "mu2 = 60\n",
    "sigma2 = 5\n",
    "\n",
    "pi = 0.3"
   ]
  },
  {
   "cell_type": "code",
   "execution_count": 24,
   "metadata": {},
   "outputs": [],
   "source": [
    "data1 = np.random.normal(mu1, sigma1, N)\n",
    "data2 = np.random.normal(mu2, sigma2, N)\n",
    "\n",
    "t = stats.bernoulli.rvs(pi, size=N)\n",
    "data = np.append(data1[t == 1], data2[t == 0])"
   ]
  },
  {
   "cell_type": "code",
   "execution_count": 31,
   "metadata": {},
   "outputs": [
    {
     "data": {
      "text/plain": [
       "(array([ 1.,  0.,  0.,  1.,  0.,  0.,  0.,  0.,  1.,  0.,  1.,  1.,  6.,\n",
       "         4.,  3.,  9.,  6.,  6.,  5.,  8.,  8.,  9.,  7., 13., 14., 11.,\n",
       "        18., 19., 17., 14., 20., 20., 11., 11., 12.,  9.,  3.,  5.,  5.,\n",
       "         5.,  3.,  8., 22., 37., 42., 57., 66., 84., 64., 94., 78., 42.,\n",
       "        40., 38., 18., 10.,  3.,  7.,  1.,  3.]),\n",
       " array([-8.47680183e+00, -7.06863184e+00, -5.66046185e+00, -4.25229186e+00,\n",
       "        -2.84412187e+00, -1.43595187e+00, -2.77818811e-02,  1.38038811e+00,\n",
       "         2.78855810e+00,  4.19672810e+00,  5.60489809e+00,  7.01306808e+00,\n",
       "         8.42123807e+00,  9.82940806e+00,  1.12375781e+01,  1.26457480e+01,\n",
       "         1.40539180e+01,  1.54620880e+01,  1.68702580e+01,  1.82784280e+01,\n",
       "         1.96865980e+01,  2.10947680e+01,  2.25029380e+01,  2.39111080e+01,\n",
       "         2.53192780e+01,  2.67274480e+01,  2.81356180e+01,  2.95437880e+01,\n",
       "         3.09519579e+01,  3.23601279e+01,  3.37682979e+01,  3.51764679e+01,\n",
       "         3.65846379e+01,  3.79928079e+01,  3.94009779e+01,  4.08091479e+01,\n",
       "         4.22173179e+01,  4.36254879e+01,  4.50336579e+01,  4.64418279e+01,\n",
       "         4.78499978e+01,  4.92581678e+01,  5.06663378e+01,  5.20745078e+01,\n",
       "         5.34826778e+01,  5.48908478e+01,  5.62990178e+01,  5.77071878e+01,\n",
       "         5.91153578e+01,  6.05235278e+01,  6.19316978e+01,  6.33398678e+01,\n",
       "         6.47480378e+01,  6.61562077e+01,  6.75643777e+01,  6.89725477e+01,\n",
       "         7.03807177e+01,  7.17888877e+01,  7.31970577e+01,  7.46052277e+01,\n",
       "         7.60133977e+01]),\n",
       " <a list of 60 Patch objects>)"
      ]
     },
     "execution_count": 31,
     "metadata": {},
     "output_type": "execute_result"
    },
    {
     "data": {
      "image/png": "[encoded data removed]",
      "text/plain": [
       "<Figure size 432x288 with 1 Axes>"
      ]
     },
     "metadata": {
      "needs_background": "light"
     },
     "output_type": "display_data"
    }
   ],
   "source": [
    "plt.hist(data1,bins=30)\n",
    "plt.hist(data2, bins=30)\n",
    "plt.hist(data, bins=60, alpha=0.5)"
   ]
  },
  {
   "cell_type": "code",
   "execution_count": 11,
   "metadata": {},
   "outputs": [],
   "source": [
    "W = np.array([pi, 1-pi])\n",
    "\n",
    "MU = np.array([mu1, mu2])\n",
    "SIGMA = np.array([sigma1, sigma2])\n",
    "\n",
    "component = np.random.choice(MU.size, size=N, p=W)\n",
    "x = np.random.normal(MU[component], SIGMA[component], size=N)"
   ]
  },
  {
   "cell_type": "code",
   "execution_count": 32,
   "metadata": {},
   "outputs": [
    {
     "data": {
      "text/plain": [
       "(array([ 1.,  2.,  2.,  6.,  4.,  8., 18., 28., 41., 43., 55., 67., 71.,\n",
       "        85., 66., 93., 97., 76., 54., 47., 44., 34., 19., 15., 11.,  2.,\n",
       "         6.,  1.,  2.,  2.]),\n",
       " array([44.00242827, 45.06946058, 46.1364929 , 47.20352521, 48.27055752,\n",
       "        49.33758984, 50.40462215, 51.47165447, 52.53868678, 53.60571909,\n",
       "        54.67275141, 55.73978372, 56.80681604, 57.87384835, 58.94088066,\n",
       "        60.00791298, 61.07494529, 62.14197761, 63.20900992, 64.27604223,\n",
       "        65.34307455, 66.41010686, 67.47713918, 68.54417149, 69.6112038 ,\n",
       "        70.67823612, 71.74526843, 72.81230075, 73.87933306, 74.94636537,\n",
       "        76.01339769]),\n",
       " <a list of 30 Patch objects>)"
      ]
     },
     "execution_count": 32,
     "metadata": {},
     "output_type": "execute_result"
    },
    {
     "data": {
      "image/png": "[encoded data removed]",
      "text/plain": [
       "<Figure size 576x432 with 1 Axes>"
      ]
     },
     "metadata": {
      "needs_background": "light"
     },
     "output_type": "display_data"
    }
   ],
   "source": [
    "fig, ax = plt.subplots(figsize=(8, 6))\n",
    "\n",
    "ax.hist(x, bins=60, lw=0)\n",
    "ax.hist(data1, bins=30, alpha=0.3)\n",
    "ax.hist(data2, bins=30, alpha=0.3)"
   ]
  },
  {
   "cell_type": "code",
   "execution_count": 15,
   "metadata": {},
   "outputs": [
    {
     "data": {
      "text/plain": [
       "(1000,)"
      ]
     },
     "execution_count": 15,
     "metadata": {},
     "output_type": "execute_result"
    }
   ],
   "source": [
    "x.shape"
   ]
  },
  {
   "cell_type": "code",
   "execution_count": null,
   "metadata": {},
   "outputs": [],
   "source": []
  }
 ],
 "metadata": {
  "kernelspec": {
   "display_name": "Python 3",
   "language": "python",
   "name": "python3"
  },
  "language_info": {
   "codemirror_mode": {
    "name": "ipython",
    "version": 3
   },
   "file_extension": ".py",
   "mimetype": "text/x-python",
   "name": "python",
   "nbconvert_exporter": "python",
   "pygments_lexer": "ipython3",
   "version": "3.7.2"
  }
 },
 "nbformat": 4,
 "nbformat_minor": 2
}
